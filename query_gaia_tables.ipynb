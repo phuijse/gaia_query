{
 "cells": [
  {
   "cell_type": "markdown",
   "id": "ca84ff2c",
   "metadata": {},
   "source": [
    "This notebook shows how to use the `astroquery` package (part of `astropy`) to query the Gaia variable star tables and how to obtain the light curves via the datalinks interface"
   ]
  },
  {
   "cell_type": "code",
   "execution_count": 1,
   "id": "ebe6b104",
   "metadata": {},
   "outputs": [],
   "source": [
    "%matplotlib inline\n",
    "from matplotlib import pyplot as plt\n",
    "import numpy as np\n",
    "import pandas as pd\n",
    "\n",
    "from astroquery.gaia import Gaia "
   ]
  },
  {
   "cell_type": "markdown",
   "id": "7c248896",
   "metadata": {},
   "source": [
    "In this example we will query the [`vari_eclipsing_binary`](https://gea.esac.esa.int/archive/documentation/GDR3/Gaia_archive/chap_datamodel/sec_dm_variability_tables/ssec_dm_vari_eclipsing_binary.html) table and select the top 10 sources according to the `global_ranking` column. We will also retrieve the fundamental frequency. I will be using `pandas` DataFrames to manipulate the tables"
   ]
  },
  {
   "cell_type": "code",
   "execution_count": 2,
   "id": "19862a4d",
   "metadata": {},
   "outputs": [
    {
     "data": {
      "text/html": [
       "<div>\n",
       "<style scoped>\n",
       "    .dataframe tbody tr th:only-of-type {\n",
       "        vertical-align: middle;\n",
       "    }\n",
       "\n",
       "    .dataframe tbody tr th {\n",
       "        vertical-align: top;\n",
       "    }\n",
       "\n",
       "    .dataframe thead th {\n",
       "        text-align: right;\n",
       "    }\n",
       "</style>\n",
       "<table border=\"1\" class=\"dataframe\">\n",
       "  <thead>\n",
       "    <tr style=\"text-align: right;\">\n",
       "      <th></th>\n",
       "      <th>frequency</th>\n",
       "      <th>global_ranking</th>\n",
       "    </tr>\n",
       "    <tr>\n",
       "      <th>source_id</th>\n",
       "      <th></th>\n",
       "      <th></th>\n",
       "    </tr>\n",
       "  </thead>\n",
       "  <tbody>\n",
       "    <tr>\n",
       "      <th>3129144706069228928</th>\n",
       "      <td>1.746188</td>\n",
       "      <td>0.842134</td>\n",
       "    </tr>\n",
       "    <tr>\n",
       "      <th>4185297337638694528</th>\n",
       "      <td>0.533663</td>\n",
       "      <td>0.829747</td>\n",
       "    </tr>\n",
       "    <tr>\n",
       "      <th>3326843532470471168</th>\n",
       "      <td>2.665704</td>\n",
       "      <td>0.819494</td>\n",
       "    </tr>\n",
       "    <tr>\n",
       "      <th>3342230338707766912</th>\n",
       "      <td>0.639434</td>\n",
       "      <td>0.817321</td>\n",
       "    </tr>\n",
       "    <tr>\n",
       "      <th>4100457405574370176</th>\n",
       "      <td>2.455824</td>\n",
       "      <td>0.816518</td>\n",
       "    </tr>\n",
       "    <tr>\n",
       "      <th>6751021430570803968</th>\n",
       "      <td>0.389874</td>\n",
       "      <td>0.813557</td>\n",
       "    </tr>\n",
       "    <tr>\n",
       "      <th>6095201502389599488</th>\n",
       "      <td>0.957006</td>\n",
       "      <td>0.811477</td>\n",
       "    </tr>\n",
       "    <tr>\n",
       "      <th>3341917626431837824</th>\n",
       "      <td>0.045527</td>\n",
       "      <td>0.810064</td>\n",
       "    </tr>\n",
       "    <tr>\n",
       "      <th>4092207868554142976</th>\n",
       "      <td>0.118099</td>\n",
       "      <td>0.808853</td>\n",
       "    </tr>\n",
       "    <tr>\n",
       "      <th>3351646380193556480</th>\n",
       "      <td>1.756745</td>\n",
       "      <td>0.808433</td>\n",
       "    </tr>\n",
       "  </tbody>\n",
       "</table>\n",
       "</div>"
      ],
      "text/plain": [
       "                     frequency  global_ranking\n",
       "source_id                                     \n",
       "3129144706069228928   1.746188        0.842134\n",
       "4185297337638694528   0.533663        0.829747\n",
       "3326843532470471168   2.665704        0.819494\n",
       "3342230338707766912   0.639434        0.817321\n",
       "4100457405574370176   2.455824        0.816518\n",
       "6751021430570803968   0.389874        0.813557\n",
       "6095201502389599488   0.957006        0.811477\n",
       "3341917626431837824   0.045527        0.810064\n",
       "4092207868554142976   0.118099        0.808853\n",
       "3351646380193556480   1.756745        0.808433"
      ]
     },
     "execution_count": 2,
     "metadata": {},
     "output_type": "execute_result"
    }
   ],
   "source": [
    "query = \"\"\"\n",
    "select top 10 source_id,frequency, global_ranking \n",
    "from gaiadr3.vari_eclipsing_binary \n",
    "order by global_ranking desc\n",
    "\"\"\"\n",
    "\n",
    "job = Gaia.launch_job(query)\n",
    "eclipsing_binaries = job.get_results().to_pandas(\"source_id\")\n",
    "eclipsing_binaries"
   ]
  },
  {
   "cell_type": "markdown",
   "id": "2ffc2956",
   "metadata": {},
   "source": [
    "The light curves are obtained using the datalinks interface. In this case we retrieve the Data Release 3 light curves for the sources we just queried with all their bands and flags. This returns a dictionary as shown below"
   ]
  },
  {
   "cell_type": "code",
   "execution_count": 3,
   "id": "c3c7da26",
   "metadata": {},
   "outputs": [
    {
     "data": {
      "text/plain": [
       "(dict, 10)"
      ]
     },
     "execution_count": 3,
     "metadata": {},
     "output_type": "execute_result"
    }
   ],
   "source": [
    "datalink = Gaia.load_data(ids=eclipsing_binaries.index, \n",
    "                          data_release='Gaia DR3', \n",
    "                          retrieval_type='EPOCH_PHOTOMETRY', \n",
    "                          format='csv', \n",
    "                          valid_data=False)\n",
    "\n",
    "type(datalink), len(datalink)"
   ]
  },
  {
   "cell_type": "markdown",
   "id": "609f077d",
   "metadata": {},
   "source": [
    "Let's inspect the key and data of the first item in the dictionary:"
   ]
  },
  {
   "cell_type": "code",
   "execution_count": 4,
   "id": "e6aaa0db",
   "metadata": {},
   "outputs": [
    {
     "name": "stdout",
     "output_type": "stream",
     "text": [
      "EPOCH_PHOTOMETRY-Gaia DR3 3341917626431837824.csv\n"
     ]
    },
    {
     "data": {
      "text/html": [
       "<div>\n",
       "<style scoped>\n",
       "    .dataframe tbody tr th:only-of-type {\n",
       "        vertical-align: middle;\n",
       "    }\n",
       "\n",
       "    .dataframe tbody tr th {\n",
       "        vertical-align: top;\n",
       "    }\n",
       "\n",
       "    .dataframe thead th {\n",
       "        text-align: right;\n",
       "    }\n",
       "</style>\n",
       "<table border=\"1\" class=\"dataframe\">\n",
       "  <thead>\n",
       "    <tr style=\"text-align: right;\">\n",
       "      <th></th>\n",
       "      <th>source_id</th>\n",
       "      <th>transit_id</th>\n",
       "      <th>band</th>\n",
       "      <th>time</th>\n",
       "      <th>mag</th>\n",
       "      <th>flux</th>\n",
       "      <th>flux_error</th>\n",
       "      <th>flux_over_error</th>\n",
       "      <th>rejected_by_photometry</th>\n",
       "      <th>rejected_by_variability</th>\n",
       "      <th>other_flags</th>\n",
       "      <th>solution_id</th>\n",
       "    </tr>\n",
       "  </thead>\n",
       "  <tbody>\n",
       "    <tr>\n",
       "      <th>0</th>\n",
       "      <td>3341917626431837824</td>\n",
       "      <td>17722668405638070</td>\n",
       "      <td>G</td>\n",
       "      <td>1717.348278</td>\n",
       "      <td>13.212763</td>\n",
       "      <td>97688.035299</td>\n",
       "      <td>68.983018</td>\n",
       "      <td>1416.11720</td>\n",
       "      <td>false</td>\n",
       "      <td>false</td>\n",
       "      <td>4210691</td>\n",
       "      <td>375316653866487564</td>\n",
       "    </tr>\n",
       "    <tr>\n",
       "      <th>1</th>\n",
       "      <td>3341917626431837824</td>\n",
       "      <td>19614269029656368</td>\n",
       "      <td>G</td>\n",
       "      <td>1751.560190</td>\n",
       "      <td>13.160409</td>\n",
       "      <td>102514.022145</td>\n",
       "      <td>281.687370</td>\n",
       "      <td>363.92834</td>\n",
       "      <td>false</td>\n",
       "      <td>false</td>\n",
       "      <td>4097</td>\n",
       "      <td>375316653866487564</td>\n",
       "    </tr>\n",
       "    <tr>\n",
       "      <th>2</th>\n",
       "      <td>3341917626431837824</td>\n",
       "      <td>19624009851369186</td>\n",
       "      <td>G</td>\n",
       "      <td>1751.736363</td>\n",
       "      <td>13.155086</td>\n",
       "      <td>103017.812906</td>\n",
       "      <td>97.622350</td>\n",
       "      <td>1055.26870</td>\n",
       "      <td>false</td>\n",
       "      <td>false</td>\n",
       "      <td>4097</td>\n",
       "      <td>375316653866487564</td>\n",
       "    </tr>\n",
       "    <tr>\n",
       "      <th>3</th>\n",
       "      <td>3341917626431837824</td>\n",
       "      <td>26693159889727807</td>\n",
       "      <td>G</td>\n",
       "      <td>1879.578511</td>\n",
       "      <td>13.798387</td>\n",
       "      <td>56962.872320</td>\n",
       "      <td>32.958801</td>\n",
       "      <td>1728.30530</td>\n",
       "      <td>false</td>\n",
       "      <td>false</td>\n",
       "      <td>1</td>\n",
       "      <td>375316653866487564</td>\n",
       "    </tr>\n",
       "    <tr>\n",
       "      <th>4</th>\n",
       "      <td>3341917626431837824</td>\n",
       "      <td>28154014457549765</td>\n",
       "      <td>G</td>\n",
       "      <td>1905.994808</td>\n",
       "      <td>13.146460</td>\n",
       "      <td>103839.522834</td>\n",
       "      <td>69.001891</td>\n",
       "      <td>1504.87940</td>\n",
       "      <td>false</td>\n",
       "      <td>false</td>\n",
       "      <td>1</td>\n",
       "      <td>375316653866487564</td>\n",
       "    </tr>\n",
       "    <tr>\n",
       "      <th>...</th>\n",
       "      <td>...</td>\n",
       "      <td>...</td>\n",
       "      <td>...</td>\n",
       "      <td>...</td>\n",
       "      <td>...</td>\n",
       "      <td>...</td>\n",
       "      <td>...</td>\n",
       "      <td>...</td>\n",
       "      <td>...</td>\n",
       "      <td>...</td>\n",
       "      <td>...</td>\n",
       "      <td>...</td>\n",
       "    </tr>\n",
       "    <tr>\n",
       "      <th>79</th>\n",
       "      <td>3341917626431837824</td>\n",
       "      <td>70200335679910576</td>\n",
       "      <td>RP</td>\n",
       "      <td>2666.378736</td>\n",
       "      <td>12.330890</td>\n",
       "      <td>92640.742474</td>\n",
       "      <td>143.191378</td>\n",
       "      <td>646.97150</td>\n",
       "      <td>false</td>\n",
       "      <td>false</td>\n",
       "      <td>0</td>\n",
       "      <td>375316653866487564</td>\n",
       "    </tr>\n",
       "    <tr>\n",
       "      <th>80</th>\n",
       "      <td>3341917626431837824</td>\n",
       "      <td>70933272839091153</td>\n",
       "      <td>RP</td>\n",
       "      <td>2679.632481</td>\n",
       "      <td>12.497219</td>\n",
       "      <td>79482.295874</td>\n",
       "      <td>133.146955</td>\n",
       "      <td>596.95166</td>\n",
       "      <td>false</td>\n",
       "      <td>false</td>\n",
       "      <td>0</td>\n",
       "      <td>375316653866487564</td>\n",
       "    </tr>\n",
       "    <tr>\n",
       "      <th>81</th>\n",
       "      <td>3341917626431837824</td>\n",
       "      <td>70937365082470137</td>\n",
       "      <td>RP</td>\n",
       "      <td>2679.706482</td>\n",
       "      <td>12.512562</td>\n",
       "      <td>78367.064234</td>\n",
       "      <td>132.715887</td>\n",
       "      <td>590.48740</td>\n",
       "      <td>false</td>\n",
       "      <td>false</td>\n",
       "      <td>0</td>\n",
       "      <td>375316653866487564</td>\n",
       "    </tr>\n",
       "    <tr>\n",
       "      <th>82</th>\n",
       "      <td>3341917626431837824</td>\n",
       "      <td>70947105903481446</td>\n",
       "      <td>RP</td>\n",
       "      <td>2679.882624</td>\n",
       "      <td>12.557979</td>\n",
       "      <td>75156.476509</td>\n",
       "      <td>135.241794</td>\n",
       "      <td>555.71930</td>\n",
       "      <td>false</td>\n",
       "      <td>false</td>\n",
       "      <td>0</td>\n",
       "      <td>375316653866487564</td>\n",
       "    </tr>\n",
       "    <tr>\n",
       "      <th>83</th>\n",
       "      <td>3341917626431837824</td>\n",
       "      <td>70951198241232343</td>\n",
       "      <td>RP</td>\n",
       "      <td>2679.956626</td>\n",
       "      <td>12.574225</td>\n",
       "      <td>74040.302696</td>\n",
       "      <td>135.230589</td>\n",
       "      <td>547.51150</td>\n",
       "      <td>false</td>\n",
       "      <td>false</td>\n",
       "      <td>0</td>\n",
       "      <td>375316653866487564</td>\n",
       "    </tr>\n",
       "  </tbody>\n",
       "</table>\n",
       "<p>84 rows × 12 columns</p>\n",
       "</div>"
      ],
      "text/plain": [
       "              source_id         transit_id band         time        mag  \\\n",
       "0   3341917626431837824  17722668405638070    G  1717.348278  13.212763   \n",
       "1   3341917626431837824  19614269029656368    G  1751.560190  13.160409   \n",
       "2   3341917626431837824  19624009851369186    G  1751.736363  13.155086   \n",
       "3   3341917626431837824  26693159889727807    G  1879.578511  13.798387   \n",
       "4   3341917626431837824  28154014457549765    G  1905.994808  13.146460   \n",
       "..                  ...                ...  ...          ...        ...   \n",
       "79  3341917626431837824  70200335679910576   RP  2666.378736  12.330890   \n",
       "80  3341917626431837824  70933272839091153   RP  2679.632481  12.497219   \n",
       "81  3341917626431837824  70937365082470137   RP  2679.706482  12.512562   \n",
       "82  3341917626431837824  70947105903481446   RP  2679.882624  12.557979   \n",
       "83  3341917626431837824  70951198241232343   RP  2679.956626  12.574225   \n",
       "\n",
       "             flux  flux_error  flux_over_error rejected_by_photometry  \\\n",
       "0    97688.035299   68.983018       1416.11720                  false   \n",
       "1   102514.022145  281.687370        363.92834                  false   \n",
       "2   103017.812906   97.622350       1055.26870                  false   \n",
       "3    56962.872320   32.958801       1728.30530                  false   \n",
       "4   103839.522834   69.001891       1504.87940                  false   \n",
       "..            ...         ...              ...                    ...   \n",
       "79   92640.742474  143.191378        646.97150                  false   \n",
       "80   79482.295874  133.146955        596.95166                  false   \n",
       "81   78367.064234  132.715887        590.48740                  false   \n",
       "82   75156.476509  135.241794        555.71930                  false   \n",
       "83   74040.302696  135.230589        547.51150                  false   \n",
       "\n",
       "   rejected_by_variability  other_flags         solution_id  \n",
       "0                    false      4210691  375316653866487564  \n",
       "1                    false         4097  375316653866487564  \n",
       "2                    false         4097  375316653866487564  \n",
       "3                    false            1  375316653866487564  \n",
       "4                    false            1  375316653866487564  \n",
       "..                     ...          ...                 ...  \n",
       "79                   false            0  375316653866487564  \n",
       "80                   false            0  375316653866487564  \n",
       "81                   false            0  375316653866487564  \n",
       "82                   false            0  375316653866487564  \n",
       "83                   false            0  375316653866487564  \n",
       "\n",
       "[84 rows x 12 columns]"
      ]
     },
     "execution_count": 4,
     "metadata": {},
     "output_type": "execute_result"
    }
   ],
   "source": [
    "for key, value in datalink.items():\n",
    "    break\n",
    "print(key)\n",
    "lc = value[0].to_pandas()\n",
    "lc"
   ]
  },
  {
   "cell_type": "markdown",
   "id": "b51682cc",
   "metadata": {},
   "source": [
    "Now let's plot the light curve. We can omit outliers in the raw data using the flag \"rejected_by_variability\""
   ]
  },
  {
   "cell_type": "code",
   "execution_count": 5,
   "id": "c5133923",
   "metadata": {},
   "outputs": [
    {
     "data": {
      "image/png": "[encoded data removed]",
      "text/plain": [
       "<Figure size 600x400 with 1 Axes>"
      ]
     },
     "metadata": {},
     "output_type": "display_data"
    }
   ],
   "source": [
    "fig, ax = plt.subplots(figsize=(6, 4), tight_layout=True)\n",
    "\n",
    "for name, data in lc.groupby(\"band\"):\n",
    "    mask = data[\"rejected_by_variability\"]==\"false\"\n",
    "    mjd, flux, flux_err = data.loc[mask][['time', 'flux', 'flux_error']].values.T\n",
    "    ax.errorbar(mjd, flux, flux_err, fmt='.', label=name)\n",
    "    \n",
    "ax.set_xlabel('Time')\n",
    "ax.set_ylabel('Flux')\n",
    "ax.set_title(f'Source_id: {lc[\"source_id\"].loc[0]}')\n",
    "ax.legend();"
   ]
  },
  {
   "cell_type": "markdown",
   "id": "56cb2ded",
   "metadata": {},
   "source": [
    "The period of this light curve is"
   ]
  },
  {
   "cell_type": "code",
   "execution_count": 6,
   "id": "11423bad",
   "metadata": {},
   "outputs": [
    {
     "data": {
      "text/plain": [
       "21.96482954227216"
      ]
     },
     "execution_count": 6,
     "metadata": {},
     "output_type": "execute_result"
    }
   ],
   "source": [
    "sid = lc[\"source_id\"].loc[0]\n",
    "\n",
    "period = 1./eclipsing_binaries[\"frequency\"].loc[sid]\n",
    "period"
   ]
  },
  {
   "cell_type": "markdown",
   "id": "132aef49",
   "metadata": {},
   "source": [
    "With the period we can visualize the phase diagram (folded light curve)"
   ]
  },
  {
   "cell_type": "code",
   "execution_count": 7,
   "id": "2b704418",
   "metadata": {},
   "outputs": [
    {
     "data": {
      "image/png": "[encoded data removed]",
      "text/plain": [
       "<Figure size 600x400 with 1 Axes>"
      ]
     },
     "metadata": {},
     "output_type": "display_data"
    }
   ],
   "source": [
    "fig, ax = plt.subplots(figsize=(6, 4), tight_layout=True)\n",
    "\n",
    "for name, data in lc.groupby(\"band\"):\n",
    "    mask = data[\"rejected_by_variability\"]==\"false\"\n",
    "    mjd, flux, flux_err = data.loc[mask][['time', 'flux', 'flux_error']].values.T\n",
    "    phase = np.mod(mjd, period)/period\n",
    "    ax.errorbar(phase, flux, flux_err, fmt='.', label=name)\n",
    "    \n",
    "ax.set_xlabel('Phase')\n",
    "ax.set_ylabel('Flux')\n",
    "ax.set_title(f'Source_id: {lc[\"source_id\"].loc[0]}')\n",
    "ax.legend();"
   ]
  },
  {
   "cell_type": "markdown",
   "id": "b04448f0-5193-4623-97fc-0ce2eeb7ea02",
   "metadata": {},
   "source": [
    "In this case we know that this source corresponds to an eclipsing binary. But in the more general case, for a given sourceid, we can fint its Gaia classification by querying the `vari_classifier_result` table:"
   ]
  },
  {
   "cell_type": "code",
   "execution_count": 8,
   "id": "76590b97-8325-4676-864d-08671fa7617b",
   "metadata": {},
   "outputs": [
    {
     "name": "stdout",
     "output_type": "stream",
     "text": [
      "INFO: Query finished. [astroquery.utils.tap.core]\n"
     ]
    },
    {
     "data": {
      "text/html": [
       "<div>\n",
       "<style scoped>\n",
       "    .dataframe tbody tr th:only-of-type {\n",
       "        vertical-align: middle;\n",
       "    }\n",
       "\n",
       "    .dataframe tbody tr th {\n",
       "        vertical-align: top;\n",
       "    }\n",
       "\n",
       "    .dataframe thead th {\n",
       "        text-align: right;\n",
       "    }\n",
       "</style>\n",
       "<table border=\"1\" class=\"dataframe\">\n",
       "  <thead>\n",
       "    <tr style=\"text-align: right;\">\n",
       "      <th>source_id</th>\n",
       "      <th>3341917626431837824</th>\n",
       "    </tr>\n",
       "  </thead>\n",
       "  <tbody>\n",
       "    <tr>\n",
       "      <th>solution_id</th>\n",
       "      <td>375316653866487564</td>\n",
       "    </tr>\n",
       "    <tr>\n",
       "      <th>classifier_name</th>\n",
       "      <td>nTransits:5+</td>\n",
       "    </tr>\n",
       "    <tr>\n",
       "      <th>best_class_name</th>\n",
       "      <td>ECL</td>\n",
       "    </tr>\n",
       "    <tr>\n",
       "      <th>best_class_score</th>\n",
       "      <td>0.222571</td>\n",
       "    </tr>\n",
       "  </tbody>\n",
       "</table>\n",
       "</div>"
      ],
      "text/plain": [
       "source_id        3341917626431837824\n",
       "solution_id       375316653866487564\n",
       "classifier_name         nTransits:5+\n",
       "best_class_name                  ECL\n",
       "best_class_score            0.222571"
      ]
     },
     "execution_count": 8,
     "metadata": {},
     "output_type": "execute_result"
    }
   ],
   "source": [
    "job = Gaia.launch_job_async(f'select * from gaiadr3.vari_classifier_result where source_id = {lc[\"source_id\"].loc[0]}' )\n",
    "classifier = job.get_results().to_pandas(index=\"source_id\")\n",
    "classifier.T"
   ]
  },
  {
   "cell_type": "markdown",
   "id": "909e70a3",
   "metadata": {},
   "source": [
    "Finally, we can query the variability features in the [`vari_summary`](https://gea.esac.esa.int/archive/documentation/GDR3/Gaia_archive/chap_datamodel/sec_dm_variability_tables/) table for this particular source with"
   ]
  },
  {
   "cell_type": "code",
   "execution_count": 9,
   "id": "8ee54bf2",
   "metadata": {},
   "outputs": [
    {
     "name": "stdout",
     "output_type": "stream",
     "text": [
      "INFO: Query finished. [astroquery.utils.tap.core]\n"
     ]
    },
    {
     "data": {
      "text/html": [
       "<div>\n",
       "<style scoped>\n",
       "    .dataframe tbody tr th:only-of-type {\n",
       "        vertical-align: middle;\n",
       "    }\n",
       "\n",
       "    .dataframe tbody tr th {\n",
       "        vertical-align: top;\n",
       "    }\n",
       "\n",
       "    .dataframe thead th {\n",
       "        text-align: right;\n",
       "    }\n",
       "</style>\n",
       "<table border=\"1\" class=\"dataframe\">\n",
       "  <thead>\n",
       "    <tr style=\"text-align: right;\">\n",
       "      <th>source_id</th>\n",
       "      <th>3341917626431837824</th>\n",
       "    </tr>\n",
       "  </thead>\n",
       "  <tbody>\n",
       "    <tr>\n",
       "      <th>solution_id</th>\n",
       "      <td>375316653866487564</td>\n",
       "    </tr>\n",
       "    <tr>\n",
       "      <th>num_selected_g_fov</th>\n",
       "      <td>28</td>\n",
       "    </tr>\n",
       "    <tr>\n",
       "      <th>mean_obs_time_g_fov</th>\n",
       "      <td>2272.131907</td>\n",
       "    </tr>\n",
       "    <tr>\n",
       "      <th>time_duration_g_fov</th>\n",
       "      <td>962.607971</td>\n",
       "    </tr>\n",
       "    <tr>\n",
       "      <th>min_mag_g_fov</th>\n",
       "      <td>13.136956</td>\n",
       "    </tr>\n",
       "    <tr>\n",
       "      <th>...</th>\n",
       "      <td>...</td>\n",
       "    </tr>\n",
       "    <tr>\n",
       "      <th>in_vari_rotation_modulation</th>\n",
       "      <td>False</td>\n",
       "    </tr>\n",
       "    <tr>\n",
       "      <th>in_vari_ms_oscillator</th>\n",
       "      <td>False</td>\n",
       "    </tr>\n",
       "    <tr>\n",
       "      <th>in_vari_agn</th>\n",
       "      <td>False</td>\n",
       "    </tr>\n",
       "    <tr>\n",
       "      <th>in_vari_microlensing</th>\n",
       "      <td>False</td>\n",
       "    </tr>\n",
       "    <tr>\n",
       "      <th>in_vari_compact_companion</th>\n",
       "      <td>False</td>\n",
       "    </tr>\n",
       "  </tbody>\n",
       "</table>\n",
       "<p>67 rows × 1 columns</p>\n",
       "</div>"
      ],
      "text/plain": [
       "source_id                   3341917626431837824\n",
       "solution_id                  375316653866487564\n",
       "num_selected_g_fov                           28\n",
       "mean_obs_time_g_fov                 2272.131907\n",
       "time_duration_g_fov                  962.607971\n",
       "min_mag_g_fov                         13.136956\n",
       "...                                         ...\n",
       "in_vari_rotation_modulation               False\n",
       "in_vari_ms_oscillator                     False\n",
       "in_vari_agn                               False\n",
       "in_vari_microlensing                      False\n",
       "in_vari_compact_companion                 False\n",
       "\n",
       "[67 rows x 1 columns]"
      ]
     },
     "execution_count": 9,
     "metadata": {},
     "output_type": "execute_result"
    }
   ],
   "source": [
    "job = Gaia.launch_job_async(f'select * from gaiadr3.vari_summary where source_id = {lc[\"source_id\"].loc[0]}' )\n",
    "features = job.get_results().to_pandas(index=\"source_id\")\n",
    "features.T"
   ]
  },
  {
   "cell_type": "code",
   "execution_count": null,
   "id": "fee906a3",
   "metadata": {},
   "outputs": [],
   "source": []
  }
 ],
 "metadata": {
  "kernelspec": {
   "display_name": "Python 3 (ipykernel)",
   "language": "python",
   "name": "python3"
  },
  "language_info": {
   "codemirror_mode": {
    "name": "ipython",
    "version": 3
   },
   "file_extension": ".py",
   "mimetype": "text/x-python",
   "name": "python",
   "nbconvert_exporter": "python",
   "pygments_lexer": "ipython3",
   "version": "3.11.5"
  }
 },
 "nbformat": 4,
 "nbformat_minor": 5
}
